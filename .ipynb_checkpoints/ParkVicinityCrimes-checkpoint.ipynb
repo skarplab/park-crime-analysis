{
 "cells": [
  {
   "cell_type": "markdown",
   "metadata": {},
   "source": [
    "# Park Crime Analysis\n",
    "\n",
    "This notebook is a self-contained tool for loading data and setting up interaction for exploring which park vicinities have the most reported crimes for a given year."
   ]
  },
  {
   "cell_type": "code",
   "execution_count": 1,
   "metadata": {},
   "outputs": [],
   "source": [
    "%matplotlib inline\n",
    "from IPython.display import display, IFrame\n",
    "\n",
    "import os\n",
    "\n",
    "import pandas as pd\n",
    "import geopandas as gpd\n",
    "import folium\n",
    "from folium.plugins import HeatMap\n",
    "\n",
    "from ipywidgets import interact, interactive, fixed, interact_manual\n",
    "import ipywidgets as widgets"
   ]
  },
  {
   "cell_type": "markdown",
   "metadata": {},
   "source": [
    "## Helper Functions"
   ]
  },
  {
   "cell_type": "markdown",
   "metadata": {},
   "source": [
    "### Data Preprocessor\n",
    "\n",
    "This function's purpose is to remove fields we're not interested in and to reproject the geometry to a CRS we want to work in."
   ]
  },
  {
   "cell_type": "code",
   "execution_count": 2,
   "metadata": {},
   "outputs": [],
   "source": [
    "def data_preprocessing(gdf, cols, epsg_code):\n",
    "    gdf = gdf[cols]\n",
    "    new_crs = {'init': 'epsg:{}'.format(epsg_code)}\n",
    "    gdf = gdf.to_crs(new_crs)\n",
    "    return gdf"
   ]
  },
  {
   "cell_type": "markdown",
   "metadata": {},
   "source": [
    "### Multiple Geometry Field Setup\n",
    "\n",
    "This fucntion sets up a GeoDataFrame so that one can more easily work with multiple geometry columns."
   ]
  },
  {
   "cell_type": "code",
   "execution_count": 3,
   "metadata": {},
   "outputs": [],
   "source": [
    "def setup_for_multiple_geometry_fields(gdf):\n",
    "    gdf['geom'] = gdf['geometry']\n",
    "    gdf = gdf.set_geometry('geom')\n",
    "    gdf = gdf.drop('geometry', axis = 1)\n",
    "    return gdf"
   ]
  },
  {
   "cell_type": "markdown",
   "metadata": {},
   "source": [
    "### Load result map as iFrame\n",
    "\n",
    "There's something weird with Folium, JupyterLab, Windows, and/or Chrome where maps with lots of features, but few enough that Leaflet should be able to handle, do not render at all. There's a suggestion in the [Folium issues](https://github.com/python-visualization/folium/issues/812#issuecomment-437483792) that suggests exporting the result to and HTML file and loading it into an iFrame."
   ]
  },
  {
   "cell_type": "code",
   "execution_count": 4,
   "metadata": {},
   "outputs": [],
   "source": [
    "def embed_map(m, height):\n",
    "    from IPython.display import IFrame\n",
    "\n",
    "    m.save('index.html')\n",
    "    return IFrame('index.html', width='100%', height='{}px'.format(height))"
   ]
  },
  {
   "cell_type": "markdown",
   "metadata": {},
   "source": [
    "## Load Data"
   ]
  },
  {
   "cell_type": "markdown",
   "metadata": {},
   "source": [
    "### Parks"
   ]
  },
  {
   "cell_type": "code",
   "execution_count": 5,
   "metadata": {},
   "outputs": [],
   "source": [
    "parks_read_gdf = gpd.read_file('https://opendata.arcgis.com/datasets/43b5d6bf9d6e400599498d052545d331_0.geojson')"
   ]
  },
  {
   "cell_type": "code",
   "execution_count": 6,
   "metadata": {},
   "outputs": [
    {
     "data": {
      "text/html": [
       "<div>\n",
       "<style scoped>\n",
       "    .dataframe tbody tr th:only-of-type {\n",
       "        vertical-align: middle;\n",
       "    }\n",
       "\n",
       "    .dataframe tbody tr th {\n",
       "        vertical-align: top;\n",
       "    }\n",
       "\n",
       "    .dataframe thead th {\n",
       "        text-align: right;\n",
       "    }\n",
       "</style>\n",
       "<table border=\"1\" class=\"dataframe\">\n",
       "  <thead>\n",
       "    <tr style=\"text-align: right;\">\n",
       "      <th></th>\n",
       "      <th>PARKID</th>\n",
       "      <th>NAME</th>\n",
       "      <th>DEVELOPED</th>\n",
       "      <th>INITIAL_AQUISITION_DATE</th>\n",
       "      <th>geom</th>\n",
       "      <th>acquisition_year</th>\n",
       "    </tr>\n",
       "  </thead>\n",
       "  <tbody>\n",
       "    <tr>\n",
       "      <th>0</th>\n",
       "      <td>34</td>\n",
       "      <td>Windemere Beaver Dam</td>\n",
       "      <td>Developed</td>\n",
       "      <td>1950-01-01T00:00:00</td>\n",
       "      <td>(POLYGON ((2097510.461880576 750949.1384854497...</td>\n",
       "      <td>1950</td>\n",
       "    </tr>\n",
       "    <tr>\n",
       "      <th>1</th>\n",
       "      <td>35</td>\n",
       "      <td>Walnut Creek North</td>\n",
       "      <td>Developed</td>\n",
       "      <td>1955-01-01T00:00:00</td>\n",
       "      <td>(POLYGON ((2126075.468296753 733175.2605656629...</td>\n",
       "      <td>1955</td>\n",
       "    </tr>\n",
       "    <tr>\n",
       "      <th>2</th>\n",
       "      <td>1</td>\n",
       "      <td>Thornton Road Property</td>\n",
       "      <td>Undeveloped</td>\n",
       "      <td>1998-10-07T00:00:00</td>\n",
       "      <td>POLYGON ((2137024.335360867 783502.8727651152,...</td>\n",
       "      <td>1998</td>\n",
       "    </tr>\n",
       "    <tr>\n",
       "      <th>3</th>\n",
       "      <td>2</td>\n",
       "      <td>Mary Belle Pate</td>\n",
       "      <td>Undeveloped</td>\n",
       "      <td>2009-08-31T00:00:00</td>\n",
       "      <td>POLYGON ((2095040.46173832 728970.3213452235, ...</td>\n",
       "      <td>2009</td>\n",
       "    </tr>\n",
       "    <tr>\n",
       "      <th>4</th>\n",
       "      <td>3</td>\n",
       "      <td>Eliza Pool</td>\n",
       "      <td>Developed</td>\n",
       "      <td>1996-02-29T00:00:00</td>\n",
       "      <td>(POLYGON ((2106009.598623645 731174.2719958539...</td>\n",
       "      <td>1996</td>\n",
       "    </tr>\n",
       "  </tbody>\n",
       "</table>\n",
       "</div>"
      ],
      "text/plain": [
       "   PARKID                    NAME    DEVELOPED INITIAL_AQUISITION_DATE  \\\n",
       "0      34    Windemere Beaver Dam    Developed     1950-01-01T00:00:00   \n",
       "1      35      Walnut Creek North    Developed     1955-01-01T00:00:00   \n",
       "2       1  Thornton Road Property  Undeveloped     1998-10-07T00:00:00   \n",
       "3       2         Mary Belle Pate  Undeveloped     2009-08-31T00:00:00   \n",
       "4       3              Eliza Pool    Developed     1996-02-29T00:00:00   \n",
       "\n",
       "                                                geom  acquisition_year  \n",
       "0  (POLYGON ((2097510.461880576 750949.1384854497...              1950  \n",
       "1  (POLYGON ((2126075.468296753 733175.2605656629...              1955  \n",
       "2  POLYGON ((2137024.335360867 783502.8727651152,...              1998  \n",
       "3  POLYGON ((2095040.46173832 728970.3213452235, ...              2009  \n",
       "4  (POLYGON ((2106009.598623645 731174.2719958539...              1996  "
      ]
     },
     "execution_count": 6,
     "metadata": {},
     "output_type": "execute_result"
    }
   ],
   "source": [
    "parks_gdf = data_preprocessing(parks_read_gdf, ['PARKID', 'NAME', 'DEVELOPED', 'INITIAL_AQUISITION_DATE', 'geometry'], 2264)\n",
    "parks_gdf = setup_for_multiple_geometry_fields(parks_gdf)\n",
    "parks_gdf['acquisition_year'] = parks_gdf.apply(lambda row: -1 if row['INITIAL_AQUISITION_DATE'] is None else int(row['INITIAL_AQUISITION_DATE'].split('-')[0]), axis = 1)\n",
    "parks_gdf.head()"
   ]
  },
  {
   "cell_type": "markdown",
   "metadata": {},
   "source": [
    "### Crime (NIBRS)"
   ]
  },
  {
   "cell_type": "code",
   "execution_count": 7,
   "metadata": {},
   "outputs": [],
   "source": [
    "# crimes_read_gdf = gpd.read_file('https://opendata.arcgis.com/datasets/24c0b37fa9bb4e16ba8bcaa7e806c615_0.geojson')\n",
    "crimes_read_gdf = gpd.read_file('crimes_nibrs_20190402.geojson')"
   ]
  },
  {
   "cell_type": "code",
   "execution_count": 8,
   "metadata": {},
   "outputs": [
    {
     "data": {
      "text/html": [
       "<div>\n",
       "<style scoped>\n",
       "    .dataframe tbody tr th:only-of-type {\n",
       "        vertical-align: middle;\n",
       "    }\n",
       "\n",
       "    .dataframe tbody tr th {\n",
       "        vertical-align: top;\n",
       "    }\n",
       "\n",
       "    .dataframe thead th {\n",
       "        text-align: right;\n",
       "    }\n",
       "</style>\n",
       "<table border=\"1\" class=\"dataframe\">\n",
       "  <thead>\n",
       "    <tr style=\"text-align: right;\">\n",
       "      <th></th>\n",
       "      <th>case_incident_id</th>\n",
       "      <th>case_number</th>\n",
       "      <th>crime_category</th>\n",
       "      <th>crime_code</th>\n",
       "      <th>crime_type</th>\n",
       "      <th>reported_date</th>\n",
       "      <th>geometry</th>\n",
       "      <th>reported_year</th>\n",
       "    </tr>\n",
       "  </thead>\n",
       "  <tbody>\n",
       "    <tr>\n",
       "      <th>18180</th>\n",
       "      <td>P18009197-30509</td>\n",
       "      <td>P18009197</td>\n",
       "      <td>FRAUD</td>\n",
       "      <td>56A</td>\n",
       "      <td>CRIMES AGAINST PROPERTY</td>\n",
       "      <td>2018-02-19T22:28:00</td>\n",
       "      <td>POINT (2109454.101178873 734711.4020341579)</td>\n",
       "      <td>2018</td>\n",
       "    </tr>\n",
       "    <tr>\n",
       "      <th>23390</th>\n",
       "      <td>P18004894-25636</td>\n",
       "      <td>P18004894</td>\n",
       "      <td>ASSAULT</td>\n",
       "      <td>25E</td>\n",
       "      <td>CRIMES AGAINST PERSONS</td>\n",
       "      <td>2018-01-28T08:18:00</td>\n",
       "      <td>POINT (2100772.629749156 764919.7760446103)</td>\n",
       "      <td>2018</td>\n",
       "    </tr>\n",
       "    <tr>\n",
       "      <th>24864</th>\n",
       "      <td>P18006235-37323</td>\n",
       "      <td>P18006235</td>\n",
       "      <td>ASSAULT</td>\n",
       "      <td>25E</td>\n",
       "      <td>CRIMES AGAINST PERSONS</td>\n",
       "      <td>2018-02-04T03:16:00</td>\n",
       "      <td>POINT (2133259.957267007 778806.5223847849)</td>\n",
       "      <td>2018</td>\n",
       "    </tr>\n",
       "    <tr>\n",
       "      <th>33163</th>\n",
       "      <td>P18011080-46792</td>\n",
       "      <td>P18011080</td>\n",
       "      <td>VANDALISM</td>\n",
       "      <td>80B</td>\n",
       "      <td>None</td>\n",
       "      <td>2018-03-01T17:29:00</td>\n",
       "      <td>POINT (2137413.081753709 762926.4664529575)</td>\n",
       "      <td>2018</td>\n",
       "    </tr>\n",
       "    <tr>\n",
       "      <th>44539</th>\n",
       "      <td>P17008917-57362</td>\n",
       "      <td>P17008917</td>\n",
       "      <td>LARCENY FROM MV</td>\n",
       "      <td>35F</td>\n",
       "      <td>CRIMES AGAINST PROPERTY</td>\n",
       "      <td>2017-02-17T13:16:00</td>\n",
       "      <td>POINT (2117889.356894409 767643.8970530435)</td>\n",
       "      <td>2017</td>\n",
       "    </tr>\n",
       "  </tbody>\n",
       "</table>\n",
       "</div>"
      ],
      "text/plain": [
       "      case_incident_id case_number   crime_category crime_code  \\\n",
       "18180  P18009197-30509   P18009197            FRAUD        56A   \n",
       "23390  P18004894-25636   P18004894          ASSAULT        25E   \n",
       "24864  P18006235-37323   P18006235          ASSAULT        25E   \n",
       "33163  P18011080-46792   P18011080        VANDALISM        80B   \n",
       "44539  P17008917-57362   P17008917  LARCENY FROM MV        35F   \n",
       "\n",
       "                    crime_type        reported_date  \\\n",
       "18180  CRIMES AGAINST PROPERTY  2018-02-19T22:28:00   \n",
       "23390   CRIMES AGAINST PERSONS  2018-01-28T08:18:00   \n",
       "24864   CRIMES AGAINST PERSONS  2018-02-04T03:16:00   \n",
       "33163                     None  2018-03-01T17:29:00   \n",
       "44539  CRIMES AGAINST PROPERTY  2017-02-17T13:16:00   \n",
       "\n",
       "                                          geometry  reported_year  \n",
       "18180  POINT (2109454.101178873 734711.4020341579)           2018  \n",
       "23390  POINT (2100772.629749156 764919.7760446103)           2018  \n",
       "24864  POINT (2133259.957267007 778806.5223847849)           2018  \n",
       "33163  POINT (2137413.081753709 762926.4664529575)           2018  \n",
       "44539  POINT (2117889.356894409 767643.8970530435)           2017  "
      ]
     },
     "execution_count": 8,
     "metadata": {},
     "output_type": "execute_result"
    }
   ],
   "source": [
    "crimes_gdf = crimes_read_gdf[crimes_read_gdf.geometry.notnull()]\n",
    "crimes_gdf = crimes_gdf[crimes_gdf['reported_date'].notnull()]\n",
    "crimes_gdf['case_incident_id'] = crimes_gdf.apply(lambda row: \"{}-{}\".format(row['case_number'], str(row['OBJECTID'])), axis = 1)\n",
    "crimes_gdf = data_preprocessing(crimes_gdf, [\n",
    "    'case_incident_id', 'case_number', 'crime_category', 'crime_code', 'crime_type',\n",
    "    'reported_date', 'geometry'\n",
    "], 2264)\n",
    "crimes_gdf['reported_year'] = crimes_gdf.apply(lambda row: int(row['reported_date'].split('-')[0]), axis = 1)\n",
    "crimes_gdf.head()"
   ]
  },
  {
   "cell_type": "markdown",
   "metadata": {},
   "source": [
    "## Crime counts near parks"
   ]
  },
  {
   "cell_type": "code",
   "execution_count": 26,
   "metadata": {
    "slideshow": {
     "slide_type": "slide"
    }
   },
   "outputs": [
    {
     "data": {
      "application/vnd.jupyter.widget-view+json": {
       "model_id": "46f971b5afd749c98836f0a02c973f9d",
       "version_major": 2,
       "version_minor": 0
      },
      "text/plain": [
       "interactive(children=(IntSlider(value=300, description='Park vicinity distance (ft)', max=2640, step=100, styl…"
      ]
     },
     "metadata": {},
     "output_type": "display_data"
    }
   ],
   "source": [
    "def crimes_near_parks(d = 300, since = 2019, result_length = 4):\n",
    "    parks_gdf['buffer'] = parks_gdf.apply(lambda row: row['geom'].buffer(d), axis = 1)\n",
    "    parks_buffer_gdf = parks_gdf.set_geometry('buffer')\n",
    "\n",
    "    crimes_since_gdf = crimes_gdf[crimes_gdf['reported_year'] >= since]  \n",
    "\n",
    "    near_park_crimes = gpd.sjoin(crimes_since_gdf, parks_buffer_gdf, 'left', 'within')\n",
    "    near_park_crimes = near_park_crimes[near_park_crimes['PARKID'].notnull()]\n",
    "    near_park_crimes = near_park_crimes[['case_incident_id', 'case_number', 'crime_category', 'crime_code', 'crime_type', 'reported_date', 'reported_year', 'PARKID', 'NAME', 'geometry']]\n",
    "    near_park_crimes = near_park_crimes.rename(columns = {'PARKID': 'parkid', 'NAME': 'park_name'})\n",
    "    near_park_crimes = gpd.GeoDataFrame(near_park_crimes, geometry = 'geometry', crs = {'init': 'epsg:2264'})\n",
    "\n",
    "\n",
    "    # Get top-n parks\n",
    "    near_park_crimes_counts = pd.DataFrame(near_park_crimes['parkid'].value_counts()).head(result_length)\n",
    "    near_park_crimes_counts = near_park_crimes_counts.reset_index() \n",
    "    near_park_crimes_counts = near_park_crimes_counts.rename(columns = {'index': 'parkid', 'parkid': 'Crimes since {}'.format(since)})\n",
    "    near_park_crimes_counts = pd.merge(near_park_crimes_counts, parks_gdf[['PARKID', 'NAME']], left_on = 'parkid', right_on = 'PARKID', how = 'left')\n",
    "    near_park_crimes_counts = near_park_crimes_counts[['PARKID', 'NAME', 'Crimes since {}'.format(since)]]\n",
    "    near_park_crimes_counts = near_park_crimes_counts.rename(columns = {'NAME': 'Park'})\n",
    "\n",
    "\n",
    "    # Get Crimes in top-n parks\n",
    "    top_n_parks = parks_buffer_gdf[parks_buffer_gdf['PARKID'].isin(near_park_crimes_counts['PARKID'])]\n",
    "    top_n_park_crimes = gpd.sjoin(near_park_crimes, top_n_parks, 'left', 'within')\n",
    "    top_n_park_crimes = top_n_park_crimes[top_n_park_crimes['PARKID'].notnull()]\n",
    "    top_n_park_crimes = top_n_park_crimes[['case_incident_id', 'case_number', 'crime_category', 'crime_code', 'crime_type', 'reported_date', 'reported_year', 'geometry']]\n",
    "    top_n_park_crimes = gpd.GeoDataFrame(top_n_park_crimes, geometry = 'geometry', crs = {'init': 'epsg:2264'})\n",
    "\n",
    "    top_n_park_unique_crimes = top_n_park_crimes.groupby('case_incident_id').first()\n",
    "    top_n_park_unique_crimes = top_n_park_unique_crimes.reset_index()\n",
    "    top_n_park_unique_crimes = top_n_park_crimes[['case_incident_id', 'case_number', 'reported_date', 'reported_year', 'geometry']]\n",
    "    top_n_park_unique_crimes = gpd.GeoDataFrame(top_n_park_unique_crimes, geometry = 'geometry', crs = {'init': 'epsg:2264'})\n",
    "    top_n_park_unique_crimes = top_n_park_unique_crimes.to_crs({'init': 'epsg:4326'})\n",
    "\n",
    "    top_n_parks = top_n_parks.drop(['buffer'], axis = 1)\n",
    "    top_n_parks = top_n_parks.rename(columns = {'geom': 'geometry'})\n",
    "    top_n_parks = top_n_parks.set_geometry('geometry')\n",
    "    top_n_parks = top_n_parks.to_crs({'init': 'epsg:4326'})\n",
    "\n",
    "    # Map near park crimes\n",
    "    m = folium.Map(location = [35.779591, -78.638176], zoom_start = 13, tiles = 'CartoDB dark_matter')\n",
    "    \n",
    "    park_style = {\n",
    "        'fillOpacity': 0,\n",
    "        'weight': 1,\n",
    "        'opacity': 1,\n",
    "        'color': 'green'\n",
    "    }\n",
    "    folium.GeoJson(top_n_parks, style_function = lambda x: park_style).add_to(m)\n",
    "\n",
    "    bounds = folium.GeoJson(top_n_park_unique_crimes).get_bounds()\n",
    "\n",
    "    top_n_park_unique_crimes_locations = []\n",
    "    for index, row in top_n_park_unique_crimes.iterrows():\n",
    "        top_n_park_unique_crimes_locations.append([row.geometry.y, row.geometry.x])\n",
    "\n",
    "    HeatMap(top_n_park_unique_crimes_locations, radius = 8, blur = 15, min_opacity = 0.1, gradient = {0.2: '#FFC107', 0.8: '#FBC02D', 0.9: '#FFF176', 1: '#ffffff'}).add_to(m)\n",
    "\n",
    "    m.fit_bounds(bounds)\n",
    "    \n",
    "    return display(near_park_crimes_counts[['Park', 'Crimes since {}'.format(since)]]), display(embed_map(m, 600))\n",
    "    \n",
    "buffer_slider =  widgets.IntSlider(min = 0, max = 2640, step = 100, value = 300, description = 'Park vicinity distance (ft)', style = {'description_width': 'initial'})\n",
    "crimes_since_slider =  widgets.IntSlider(min = 2014, max = 2019, step = 1, value = 2019, description = 'Crimes since (year)', style = {'description_width': 'initial'})\n",
    "result_length_input = widgets.BoundedIntText(value = 3, min = 1, max = 50, step = 1, description = 'Top-n results', disabled = False)\n",
    "\n",
    "output = widgets.interact_manual(crimes_near_parks, d = buffer_slider, since = crimes_since_slider, result_length = result_length_input)"
   ]
  }
 ],
 "metadata": {
  "kernelspec": {
   "display_name": "Python 3",
   "language": "python",
   "name": "python3"
  },
  "language_info": {
   "codemirror_mode": {
    "name": "ipython",
    "version": 3
   },
   "file_extension": ".py",
   "mimetype": "text/x-python",
   "name": "python",
   "nbconvert_exporter": "python",
   "pygments_lexer": "ipython3",
   "version": "3.6.7"
  }
 },
 "nbformat": 4,
 "nbformat_minor": 2
}
